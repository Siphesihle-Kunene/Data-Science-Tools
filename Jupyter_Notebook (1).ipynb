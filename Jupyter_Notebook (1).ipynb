{
  "metadata": {
    "kernelspec": {
      "name": "python",
      "display_name": "Pyolite",
      "language": "python"
    },
    "language_info": {
      "codemirror_mode": {
        "name": "python",
        "version": 3
      },
      "file_extension": ".py",
      "mimetype": "text/x-python",
      "name": "python",
      "nbconvert_exporter": "python",
      "pygments_lexer": "ipython3",
      "version": "3.8"
    }
  },
  "nbformat_minor": 4,
  "nbformat": 4,
  "cells": [
    {
      "cell_type": "markdown",
      "source": "<center>\n    <img src=\"https://s3-api.us-geo.objectstorage.softlayer.net/cf-courses-data/CognitiveClass/Logos/organization_logo/organization_logo.png\" width=\"300\" alt=\"cognitiveclass.ai logo\"  />\n</center>\n",
      "metadata": {}
    },
    {
      "cell_type": "markdown",
      "source": "#### Add your code below following the instructions given in the course\n",
      "metadata": {}
    },
    {
      "cell_type": "code",
      "source": "My Jupyter Notebook On IBM Watson Studio",
      "metadata": {
        "tags": [],
        "trusted": true
      },
      "execution_count": null,
      "outputs": []
    },
    {
      "cell_type": "markdown",
      "source": "**Siphesihle Kunene**\nAspiring Data Scientist/Analyst",
      "metadata": {}
    },
    {
      "cell_type": "markdown",
      "source": "*I am interested in Data Science because I am curious and willing to learn. I will do everything in my abilities to become a fully qualified Data Scientist or die*",
      "metadata": {}
    },
    {
      "cell_type": "markdown",
      "source": "###ADDITION",
      "metadata": {}
    },
    {
      "cell_type": "code",
      "source": "x=2",
      "metadata": {
        "tags": [],
        "trusted": true
      },
      "execution_count": 1,
      "outputs": []
    },
    {
      "cell_type": "code",
      "source": "y=1",
      "metadata": {
        "trusted": true
      },
      "execution_count": 2,
      "outputs": []
    },
    {
      "cell_type": "code",
      "source": "print(x+y)",
      "metadata": {
        "trusted": true
      },
      "execution_count": 3,
      "outputs": [
        {
          "name": "stdout",
          "text": "3\n",
          "output_type": "stream"
        }
      ]
    },
    {
      "cell_type": "markdown",
      "source": "***",
      "metadata": {}
    },
    {
      "cell_type": "markdown",
      "source": "- Number 1\n- Number 2\n- Number 3\n- Number 4",
      "metadata": {}
    },
    {
      "cell_type": "markdown",
      "source": "1. First \n2. Second\n3. Third\n4. Fourth",
      "metadata": {}
    },
    {
      "cell_type": "markdown",
      "source": "#Table#\n",
      "metadata": {}
    },
    {
      "cell_type": "markdown",
      "source": "|Name||Surname||Email Address|\n|----||-------||-------------|\n|Sihle||Smith||sihle@gmail.com|\n|Senge||Msima||senge@gmail.com|\n|Siphesihle||Kunene||siphesihle@gmail.com|\n",
      "metadata": {}
    },
    {
      "cell_type": "code",
      "source": "",
      "metadata": {},
      "execution_count": null,
      "outputs": []
    }
  ]
}